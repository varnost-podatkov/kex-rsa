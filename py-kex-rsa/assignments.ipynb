{
 "cells": [
  {
   "cell_type": "markdown",
   "metadata": {},
   "source": [
    "# Asimetrična šifra RSA"
   ]
  },
  {
   "cell_type": "code",
   "execution_count": 1,
   "metadata": {
    "tags": []
   },
   "outputs": [],
   "source": [
    "from cryptography.hazmat.primitives.asymmetric import rsa, padding\n",
    "from cryptography.hazmat.primitives import hashes"
   ]
  },
  {
   "cell_type": "markdown",
   "metadata": {},
   "source": [
    "## Naloga 4\n",
    "\n",
    "Implementirajte asimetrično šifro RSA, tako da podate implementacijo algoritmov za ustvarjanje ključev, šifriranja in dešifriranja. Pri tem si pomagajte z dokumentacijo knjižnice cryptography: [RSA @ cryptography](https://cryptography.io/en/latest/hazmat/primitives/asymmetric/rsa/)\n",
    "\n",
    "Specifikacije so naslednje:\n",
    "\n",
    "Algoritem `gen(int)`\n",
    "- opcijsko vzame velikost ključa (modula); privzeta vrednost naj bo 2048 bitov;\n",
    "- eksponent e naj bo 65537\n",
    "- vrne naj par `(pk, sk)`"
   ]
  },
  {
   "cell_type": "code",
   "execution_count": 2,
   "metadata": {
    "tags": []
   },
   "outputs": [],
   "source": [
    "def gen(key_size=2048):\n",
    "    sk = rsa.generate_private_key(\n",
    "        public_exponent=65537,\n",
    "        key_size=key_size)\n",
    "    pk = sk.public_key()\n",
    "    return pk, sk"
   ]
  },
  {
   "cell_type": "code",
   "execution_count": 3,
   "metadata": {
    "tags": []
   },
   "outputs": [],
   "source": [
    "def test_gen():\n",
    "    from cryptography.hazmat.backends.openssl.rsa import _RSAPublicKey, _RSAPrivateKey\n",
    "    pk, sk = gen()\n",
    "    assert type(pk) == _RSAPublicKey\n",
    "    assert type(sk) == _RSAPrivateKey\n",
    "    \n",
    "test_gen()"
   ]
  },
  {
   "cell_type": "markdown",
   "metadata": {},
   "source": [
    "Šifrirni algoritem vzame tri argumente:\n",
    "- `pk` javni ključ kot ga vrne algoritem `gen()`\n",
    "- `ct` čistopis v bajtih\n",
    "- opcijsko `aad`, pridruženi podatki v bajtih\n",
    "\n",
    "Za podlaganje uporabite algoritem `OAEP`, za `MGF` algoritem `MGF1` z `SHA256` in za zgoščevalno funkcijo prav tako `SHA256`.\n",
    "\n",
    "Kot rezultat vrnite bajte tajnopisa."
   ]
  },
  {
   "cell_type": "code",
   "execution_count": 4,
   "metadata": {
    "tags": []
   },
   "outputs": [],
   "source": [
    "def enc(pk, message: bytes, aad: bytes=None) -> bytes:\n",
    "    return pk.encrypt(\n",
    "        message,\n",
    "        padding.OAEP(\n",
    "            mgf=padding.MGF1(algorithm=hashes.SHA256()),\n",
    "            algorithm=hashes.SHA256(),\n",
    "            label=aad))"
   ]
  },
  {
   "cell_type": "markdown",
   "metadata": {
    "tags": []
   },
   "source": [
    "Dešifrirani algoritem vzame tri argumente:\n",
    "- `sk` zasebni ključ kot ga vrne algoritem gen(),\n",
    "- `ct` tajnopis v bajtih,\n",
    "- opcijsko `aad`, pridruženi podatki v bajtih.\n",
    "\n",
    "Podobno kot pri šifriranju: za podlaganje uporabite algoritem `OAEP`, za `MGF` algoritem `MGF1` z `SHA256` in za zgoščevalno funkcijo prav tako `SHA256`.\n",
    "\n",
    "Kot rezultat vrnite bajte čistopisa oz. napako, če je tajnopis neveljaven."
   ]
  },
  {
   "cell_type": "code",
   "execution_count": 5,
   "metadata": {
    "tags": []
   },
   "outputs": [],
   "source": [
    "def dec(sk, ct: bytes, aad: bytes=None) -> bytes:\n",
    "    return sk.decrypt(\n",
    "        ct,\n",
    "        padding.OAEP(\n",
    "            mgf=padding.MGF1(algorithm=hashes.SHA256()),\n",
    "            algorithm=hashes.SHA256(),\n",
    "            label=aad))"
   ]
  },
  {
   "cell_type": "code",
   "execution_count": 6,
   "metadata": {
    "tags": []
   },
   "outputs": [],
   "source": [
    "def test_enc_dec():\n",
    "    pk, sk = gen()\n",
    "    \n",
    "    assert dec(sk, enc(pk, b\"hello\")) == b\"hello\"\n",
    "    assert dec(sk, enc(pk, b\"hello\", b\"world\"), b\"world\") == b\"hello\"\n",
    "    try:\n",
    "        dec(sk, enc(pk, b\"hello\", b\"world\"))\n",
    "        raise AssertionError\n",
    "    except ValueError:\n",
    "        pass\n",
    "    \n",
    "test_enc_dec()"
   ]
  }
 ],
 "metadata": {
  "kernelspec": {
   "display_name": "Python 3 (ipykernel)",
   "language": "python",
   "name": "python3"
  },
  "language_info": {
   "codemirror_mode": {
    "name": "ipython",
    "version": 3
   },
   "file_extension": ".py",
   "mimetype": "text/x-python",
   "name": "python",
   "nbconvert_exporter": "python",
   "pygments_lexer": "ipython3",
   "version": "3.10.12"
  }
 },
 "nbformat": 4,
 "nbformat_minor": 4
}
